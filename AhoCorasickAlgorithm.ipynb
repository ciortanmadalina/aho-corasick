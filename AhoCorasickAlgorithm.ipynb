{
 "cells": [
  {
   "cell_type": "markdown",
   "metadata": {},
   "source": [
    "# Efficient\tString\tMatching : Aho Corasick algorithm\n",
    "## Madalina Ciortan\n",
    "\n",
    "__Implementation details:__   \n",
    "Python 3.5  \n",
    "No libraries\n",
    "\n"
   ]
  },
  {
   "cell_type": "markdown",
   "metadata": {},
   "source": [
    "Global variables used: \n",
    "\n",
    "__g__ : this dictionary represents go to function and holds as keys tuples (state, weight) and the value is the next state  \n",
    "The choice of a tuple facilitates the fast retrieval of values for the following state based on the composite key of state and existing weight, the same effect could have been obtained by concatenating as a string the 2 before mentioned properties.   \n",
    "__output__ : this dictionary maps states to a list of unique keywords found  \n",
    "__failure__ : this dictionary maps each state with the next state  \n",
    "__caseSensitive__ : when this parameter is set to false, we match strings with letter case difference  \n",
    "__fail__ = None : global constant with a meaningful name which is the output of the graph f when the weight(letter) is not part of the graph  \n",
    "__newstate__ : global variable used to propagate the state index cross kewords iterations\n",
    "\n",
    "\n",
    "For a clear example of the structure maintained by these variables, check the print statements after the creation of the state machine at the end of this file.\n",
    "    "
   ]
  },
  {
   "cell_type": "code",
   "execution_count": 4,
   "metadata": {
    "collapsed": true
   },
   "outputs": [],
   "source": [
    "g = {} \n",
    "output = {} \n",
    "failure = {} \n",
    "caseSensitive = False \n",
    "\n",
    "\n",
    "fail = None \n",
    "newstate = 0 "
   ]
  },
  {
   "cell_type": "markdown",
   "metadata": {},
   "source": [
    "The following method resets global parametrs to default values:"
   ]
  },
  {
   "cell_type": "code",
   "execution_count": 7,
   "metadata": {
    "collapsed": true
   },
   "outputs": [],
   "source": [
    "def initializeGlobalParameters():\n",
    "    ''''\n",
    "    This method makes sure that all global parameters are properly reset\n",
    "    '''\n",
    "    global g\n",
    "    global output\n",
    "    global failure\n",
    "    global newstate\n",
    "    g = {}\n",
    "    output = {}\n",
    "    failure = {}\n",
    "    newstate = 0"
   ]
  },
  {
   "cell_type": "markdown",
   "metadata": {},
   "source": [
    "The state machine is created in 2 phases: the first one creates the __go to__  and the initial version of __output__ functions while the second step creates the __failure function__ and updates __output__.   \n",
    "Before running these 2 phases we want to make sure that the global parameters are set to default values."
   ]
  },
  {
   "cell_type": "code",
   "execution_count": 10,
   "metadata": {
    "collapsed": true
   },
   "outputs": [],
   "source": [
    "def createStateMachine(keywords):\n",
    "    ''''\n",
    "    This method initializes global parameters, creates the go to, failure and output functions\n",
    "    '''\n",
    "    initializeGlobalParameters()\n",
    "    createGoToFunction(keywords)\n",
    "    createFailueFunction()"
   ]
  },
  {
   "cell_type": "code",
   "execution_count": 12,
   "metadata": {
    "collapsed": true
   },
   "outputs": [],
   "source": [
    "def createGoToFunction(keywords):\n",
    "    '''\n",
    "\n",
    "    :param keywords: list of strings based on which we create the automata\n",
    "    :return: go to function\n",
    "    '''\n",
    "\n",
    "    newstate = 0 # start with state 0\n",
    "    for keyword in keywords:\n",
    "        processKeyword(keyword)\n",
    "\n",
    "    # For all letters which are not mapped to the 0 root state, create references to state 0\n",
    "    # For efficiency concatenate all keywords and remove duplicated letters with set\n",
    "    allkeys = ''.join(set(''.join(keywords)))\n",
    "    for i in range(len(allkeys)):\n",
    "        if g.get((0, allkeys[i]), fail) == fail:\n",
    "            g[(0, allkeys[i])] = 0\n",
    "    return g\n",
    "\n",
    "\n",
    "def processKeyword(keyword):\n",
    "    '''\n",
    "    For each letter in keyword, if it is already present in our graph g at current state,\n",
    "    update current state to the value of the next state\n",
    "    otherwise add a new node to the graph mapping the current state + 1 with the current letter\n",
    "    :param keyword:\n",
    "    :return:\n",
    "    '''\n",
    "    global newstate\n",
    "    state = 0\n",
    "    j = 0\n",
    "    while g.get((state, keyword[j]), fail) != fail: #state already defined\n",
    "        state = g[(state, keyword[j])] #we are sure the key exists\n",
    "        j = j + 1\n",
    "\n",
    "    for p in range(j, len(keyword)) :\n",
    "        newstate = newstate + 1\n",
    "        g[(state, keyword[p])] = newstate\n",
    "        state = newstate\n",
    "\n",
    "    updateOutput(state, keyword)\n",
    "\n",
    "\n",
    "def updateOutput(state, keyword) :\n",
    "    '''\n",
    "    This method updates output dictionary with value keyword at key state.\n",
    "    Because we can find multiple keywords at the same index, output maintains a list of\n",
    "    keywords.\n",
    "    For this reason, if input keyword is a string and the key doest't exist, I create an array\n",
    "    with given value, otherwise I add keyword to existing array.\n",
    "    This method is called by processKeyword and createFailure function and in the latter case\n",
    "    it may pass a list of values (the payload of another output node, for this reason\n",
    "    I check the instance type and do an array extends.\n",
    "    '''\n",
    "    if state in output.keys():\n",
    "        #this scenario will be triggered by updates from create failure\n",
    "        if isinstance(keyword, list):\n",
    "            output[state].extend(keyword)\n",
    "        else:\n",
    "            output[state].append(keyword)\n",
    "    else:\n",
    "        output[state] = [keyword]\n",
    "\n",
    "\n",
    "def createFailueFunction():\n",
    "    '''\n",
    "    This method iterates through all letters of keywords payload (set method guarantees\n",
    "    distinct output) and uses a queue to manange states.\n",
    "    '''\n",
    "    queue = []\n",
    "    allkeys = ''.join(set(''.join(keywords)))\n",
    "    for i in range(len(allkeys)):\n",
    "        s = g.get((0, allkeys[i]), fail)\n",
    "        if  s != 0:\n",
    "            queue.append(s)\n",
    "            failure[s] = 0\n",
    "\n",
    "    while len(queue) != 0 :\n",
    "        r = queue[0]\n",
    "        queue.remove(queue[0])\n",
    "\n",
    "        for i in range(len(allkeys)):\n",
    "            s = g.get((r, allkeys[i]), fail)\n",
    "            if s!= fail :\n",
    "                queue.append(s)\n",
    "                state = failure[r]\n",
    "                while g.get((state, allkeys[i]), fail) == fail :\n",
    "                    state = failure[state]\n",
    "                failure[s] = g[(state, allkeys[i])]\n",
    "                if failure[s] in output.keys():\n",
    "                    newOutputValue = output[failure[s]]\n",
    "                    updateOutput(s, newOutputValue)"
   ]
  },
  {
   "cell_type": "markdown",
   "metadata": {},
   "source": [
    "The following method takes as input the string to be parsed and a file name where the result will be written to.  \n",
    "The content of this output file will be _index_: _keywords_  ( see output file on github)  \n",
    "e.g: Index: 19 ['the']   \n",
    "Index: 52 ['pattern']   \n",
    "Index: 77 ['tree']   \n",
    "\n",
    "The program will also print to the console this results together with the string up to the point where the match was found:"
   ]
  },
  {
   "cell_type": "code",
   "execution_count": 14,
   "metadata": {
    "collapsed": true
   },
   "outputs": [],
   "source": [
    "def findInString(inputString, outputFileName):\n",
    "    '''\n",
    "    Find all occurences of keywords in given inputString\n",
    "    This method has to be called after createStateMachine\n",
    "    '''\n",
    "    state = 0\n",
    "    outputFile = open( outputFileName, 'w')\n",
    "    for i in range(len(inputString)) :\n",
    "        #failure function doesn't have a value for state 0 therefor make sure the\n",
    "        #this loop doesn't execute the very first time\n",
    "        while g.get((state, inputString[i]), fail) == fail and state != 0:\n",
    "            state = failure[state]\n",
    "        #update state only when the tuple state, inputString[i] exists in go to graph, otherwise keep existing state\n",
    "        state = g.get((state, inputString[i]), state)\n",
    "        if output.get(state, None ) != None :\n",
    "            print('\\nIndex : %s , Output keywords %s \\nActual text : %s' % (i, output[state], inputString[:i + 1]))\n",
    "            outputFile.write('Index: %s %s \\n' % (i, output[state]))\n"
   ]
  },
  {
   "cell_type": "markdown",
   "metadata": {},
   "source": [
    "The following method reads the input from given file and returns it as string:"
   ]
  },
  {
   "cell_type": "code",
   "execution_count": 16,
   "metadata": {
    "collapsed": true
   },
   "outputs": [],
   "source": [
    "def readTextFromFile(filename):\n",
    "    '''\n",
    "    Return string payload of input filename.\n",
    "\n",
    "    There might be differences in the output index results due to extra characters passed\n",
    "    along during the copy paste to the input file.\n",
    "    '''\n",
    "    with open(filename, 'r') as myfile:\n",
    "        text = myfile.read()\n",
    "        if not caseSensitive :\n",
    "            return text.lower()\n",
    "        return text"
   ]
  },
  {
   "cell_type": "markdown",
   "metadata": {},
   "source": [
    "Load keywords and text from file. (see input file on github where the given text was copied)  \n",
    "If caseSensistive parameter is provided, convert everything to lowercase."
   ]
  },
  {
   "cell_type": "code",
   "execution_count": 19,
   "metadata": {
    "collapsed": true
   },
   "outputs": [],
   "source": [
    "keywords = ['pattern',\t'tree',\t'state','prove','the','it']\n",
    "if caseSensitive :\n",
    "    keywords = [x.lower() for x in keywords]\n",
    "\n",
    "text = readTextFromFile('input')"
   ]
  },
  {
   "cell_type": "markdown",
   "metadata": {},
   "source": [
    "Create state machine and inspect goto/failure/output functions"
   ]
  },
  {
   "cell_type": "code",
   "execution_count": 21,
   "metadata": {},
   "outputs": [
    {
     "name": "stdout",
     "output_type": "stream",
     "text": [
      ">Go To Graph : {(0, 'n'): 0, (6, 'n'): 7, (18, 'v'): 19, (21, 'e'): 22, (17, 'o'): 18, (3, 't'): 4, (0, 'p'): 1, (10, 'e'): 11, (0, 'r'): 0, (0, 's'): 12, (1, 'a'): 2, (8, 'r'): 9, (0, 't'): 8, (0, 'v'): 0, (0, 'e'): 0, (5, 'r'): 6, (0, 'i'): 23, (13, 'a'): 14, (15, 'e'): 16, (23, 't'): 24, (8, 'h'): 21, (2, 't'): 3, (1, 'r'): 17, (0, 'a'): 0, (0, 'h'): 0, (9, 'e'): 10, (4, 'e'): 5, (12, 't'): 13, (0, 'o'): 0, (14, 't'): 15, (19, 'e'): 20} \n",
      ">Ouput function : {16: ['state'], 20: ['prove'], 22: ['the'], 7: ['pattern'], 24: ['it'], 11: ['tree']} \n",
      ">Failure function : {1: 0, 2: 0, 3: 8, 4: 8, 5: 0, 6: 0, 7: 0, 8: 0, 9: 0, 10: 0, 11: 0, 12: 0, 13: 8, 14: 0, 15: 8, 16: 0, 17: 0, 18: 0, 19: 0, 20: 0, 21: 0, 22: 0, 23: 0, 24: 8}\n"
     ]
    }
   ],
   "source": [
    "createStateMachine(keywords)\n",
    "print( '>Go To Graph : %s \\n>Ouput function : %s \\n>Failure function : %s' % (g, output, failure))"
   ]
  },
  {
   "cell_type": "markdown",
   "metadata": {},
   "source": [
    "Find indexes in input text:"
   ]
  },
  {
   "cell_type": "code",
   "execution_count": 23,
   "metadata": {},
   "outputs": [
    {
     "name": "stdout",
     "output_type": "stream",
     "text": [
      "\n",
      "Index : 19 , Output keywords ['the'] \n",
      "Actual text : as\tdiscussed\tin\t the\n",
      "\n",
      "Index : 52 , Output keywords ['pattern'] \n",
      "Actual text : as\tdiscussed\tin\t the\tsession\ton\tcombinatorial\tpattern\n",
      "\n",
      "Index : 77 , Output keywords ['tree'] \n",
      "Actual text : as\tdiscussed\tin\t the\tsession\ton\tcombinatorial\tpattern\tmatching,\tkeywords\t tree\n",
      "\n",
      "Index : 141 , Output keywords ['pattern'] \n",
      "Actual text : as\tdiscussed\tin\t the\tsession\ton\tcombinatorial\tpattern\tmatching,\tkeywords\t trees\n",
      "provide\tan\tefficient\tsolution\tto\tsearch\tfor\tmultiple\tk pattern\n",
      "\n",
      "Index : 169 , Output keywords ['the'] \n",
      "Actual text : as\tdiscussed\tin\t the\tsession\ton\tcombinatorial\tpattern\tmatching,\tkeywords\t trees\n",
      "provide\tan\tefficient\tsolution\tto\tsearch\tfor\tmultiple\tk patterns\tin\ta\ttext\tof\tlength\tn.\n",
      "the\n",
      "\n",
      "Index : 177 , Output keywords ['it'] \n",
      "Actual text : as\tdiscussed\tin\t the\tsession\ton\tcombinatorial\tpattern\tmatching,\tkeywords\t trees\n",
      "provide\tan\tefficient\tsolution\tto\tsearch\tfor\tmultiple\tk patterns\tin\ta\ttext\tof\tlength\tn.\n",
      "the\talgorit\n",
      "\n",
      "Index : 200 , Output keywords ['the'] \n",
      "Actual text : as\tdiscussed\tin\t the\tsession\ton\tcombinatorial\tpattern\tmatching,\tkeywords\t trees\n",
      "provide\tan\tefficient\tsolution\tto\tsearch\tfor\tmultiple\tk patterns\tin\ta\ttext\tof\tlength\tn.\n",
      "the\talgorithm\trequires\t first\t the\n",
      "\n",
      "Index : 232 , Output keywords ['tree'] \n",
      "Actual text : as\tdiscussed\tin\t the\tsession\ton\tcombinatorial\tpattern\tmatching,\tkeywords\t trees\n",
      "provide\tan\tefficient\tsolution\tto\tsearch\tfor\tmultiple\tk patterns\tin\ta\ttext\tof\tlength\tn.\n",
      "the\talgorithm\trequires\t first\t the\tconstruction\tof\ta\tkeyword\t tree\n",
      "\n",
      "Index : 241 , Output keywords ['the'] \n",
      "Actual text : as\tdiscussed\tin\t the\tsession\ton\tcombinatorial\tpattern\tmatching,\tkeywords\t trees\n",
      "provide\tan\tefficient\tsolution\tto\tsearch\tfor\tmultiple\tk patterns\tin\ta\ttext\tof\tlength\tn.\n",
      "the\talgorithm\trequires\t first\t the\tconstruction\tof\ta\tkeyword\t tree\tand\t the\n",
      "\n",
      "Index : 271 , Output keywords ['the'] \n",
      "Actual text : as\tdiscussed\tin\t the\tsession\ton\tcombinatorial\tpattern\tmatching,\tkeywords\t trees\n",
      "provide\tan\tefficient\tsolution\tto\tsearch\tfor\tmultiple\tk patterns\tin\ta\ttext\tof\tlength\tn.\n",
      "the\talgorithm\trequires\t first\t the\tconstruction\tof\ta\tkeyword\t tree\tand\t then,\tusing\n",
      "naã¯ve\tthreading,\tthe\n",
      "\n",
      "Index : 279 , Output keywords ['pattern'] \n",
      "Actual text : as\tdiscussed\tin\t the\tsession\ton\tcombinatorial\tpattern\tmatching,\tkeywords\t trees\n",
      "provide\tan\tefficient\tsolution\tto\tsearch\tfor\tmultiple\tk patterns\tin\ta\ttext\tof\tlength\tn.\n",
      "the\talgorithm\trequires\t first\t the\tconstruction\tof\ta\tkeyword\t tree\tand\t then,\tusing\n",
      "naã¯ve\tthreading,\tthe\tpattern\n",
      "\n",
      "Index : 323 , Output keywords ['the'] \n",
      "Actual text : as\tdiscussed\tin\t the\tsession\ton\tcombinatorial\tpattern\tmatching,\tkeywords\t trees\n",
      "provide\tan\tefficient\tsolution\tto\tsearch\tfor\tmultiple\tk patterns\tin\ta\ttext\tof\tlength\tn.\n",
      "the\talgorithm\trequires\t first\t the\tconstruction\tof\ta\tkeyword\t tree\tand\t then,\tusing\n",
      "naã¯ve\tthreading,\tthe\tpatterns\tcan\tbe\tidentified in\to(nm),\twhere\tn is\tthe\n",
      "\n",
      "Index : 345 , Output keywords ['the'] \n",
      "Actual text : as\tdiscussed\tin\t the\tsession\ton\tcombinatorial\tpattern\tmatching,\tkeywords\t trees\n",
      "provide\tan\tefficient\tsolution\tto\tsearch\tfor\tmultiple\tk patterns\tin\ta\ttext\tof\tlength\tn.\n",
      "the\talgorithm\trequires\t first\t the\tconstruction\tof\ta\tkeyword\t tree\tand\t then,\tusing\n",
      "naã¯ve\tthreading,\tthe\tpatterns\tcan\tbe\tidentified in\to(nm),\twhere\tn is\tthe\taverage\n",
      "length\tof\tthe\n",
      "\n",
      "Index : 355 , Output keywords ['pattern'] \n",
      "Actual text : as\tdiscussed\tin\t the\tsession\ton\tcombinatorial\tpattern\tmatching,\tkeywords\t trees\n",
      "provide\tan\tefficient\tsolution\tto\tsearch\tfor\tmultiple\tk patterns\tin\ta\ttext\tof\tlength\tn.\n",
      "the\talgorithm\trequires\t first\t the\tconstruction\tof\ta\tkeyword\t tree\tand\t then,\tusing\n",
      "naã¯ve\tthreading,\tthe\tpatterns\tcan\tbe\tidentified in\to(nm),\twhere\tn is\tthe\taverage\n",
      "length\tof\tthe\tk pattern\n",
      "\n",
      "Index : 369 , Output keywords ['the'] \n",
      "Actual text : as\tdiscussed\tin\t the\tsession\ton\tcombinatorial\tpattern\tmatching,\tkeywords\t trees\n",
      "provide\tan\tefficient\tsolution\tto\tsearch\tfor\tmultiple\tk patterns\tin\ta\ttext\tof\tlength\tn.\n",
      "the\talgorithm\trequires\t first\t the\tconstruction\tof\ta\tkeyword\t tree\tand\t then,\tusing\n",
      "naã¯ve\tthreading,\tthe\tpatterns\tcan\tbe\tidentified in\to(nm),\twhere\tn is\tthe\taverage\n",
      "length\tof\tthe\tk patterns\tand\tm is\tthe\n",
      "\n",
      "Index : 383 , Output keywords ['the'] \n",
      "Actual text : as\tdiscussed\tin\t the\tsession\ton\tcombinatorial\tpattern\tmatching,\tkeywords\t trees\n",
      "provide\tan\tefficient\tsolution\tto\tsearch\tfor\tmultiple\tk patterns\tin\ta\ttext\tof\tlength\tn.\n",
      "the\talgorithm\trequires\t first\t the\tconstruction\tof\ta\tkeyword\t tree\tand\t then,\tusing\n",
      "naã¯ve\tthreading,\tthe\tpatterns\tcan\tbe\tidentified in\to(nm),\twhere\tn is\tthe\taverage\n",
      "length\tof\tthe\tk patterns\tand\tm is\tthe\tlength\tof\tthe\n"
     ]
    }
   ],
   "source": [
    "findInString(text, 'output')"
   ]
  },
  {
   "cell_type": "markdown",
   "metadata": {},
   "source": [
    "Complexity  \n",
    "\n",
    "As proven in the article, the above implemented algorithms run in linear time, findInString makes fewer than 2n state transitions in processing a text string of length n.\n"
   ]
  }
 ],
 "metadata": {
  "kernelspec": {
   "display_name": "Python 3",
   "language": "python",
   "name": "python3"
  },
  "language_info": {
   "codemirror_mode": {
    "name": "ipython",
    "version": 3
   },
   "file_extension": ".py",
   "mimetype": "text/x-python",
   "name": "python",
   "nbconvert_exporter": "python",
   "pygments_lexer": "ipython3",
   "version": "3.5.3"
  }
 },
 "nbformat": 4,
 "nbformat_minor": 2
}
